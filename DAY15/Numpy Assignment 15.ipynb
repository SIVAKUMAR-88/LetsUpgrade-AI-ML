{
 "cells": [
  {
   "cell_type": "markdown",
   "metadata": {},
   "source": [
    "# 1. Create a 3x3x3 array with random values "
   ]
  },
  {
   "cell_type": "code",
   "execution_count": 3,
   "metadata": {},
   "outputs": [
    {
     "name": "stdout",
     "output_type": "stream",
     "text": [
      "[0.2847221  0.91825799 0.87742507 0.33626769 0.24502749 0.67910221\n",
      " 0.69053441 0.80825849 0.04941966 0.3730111  0.90212166 0.58836229\n",
      " 0.60882979 0.47331079 0.30818641 0.86261982 0.83743954 0.74880009\n",
      " 0.08378802 0.40589231 0.20491074 0.58742717 0.63883338 0.70057113\n",
      " 0.06950998 0.51998078 0.17656579]\n"
     ]
    }
   ],
   "source": [
    "import numpy as np\n",
    "\n",
    "x=np.random.random((3*3*3))\n",
    "print(x)"
   ]
  },
  {
   "cell_type": "markdown",
   "metadata": {},
   "source": [
    "# 2.Create a 5x5 matrix with values 1,2,3,4 just below the diagonal"
   ]
  },
  {
   "cell_type": "code",
   "execution_count": 10,
   "metadata": {},
   "outputs": [
    {
     "name": "stdout",
     "output_type": "stream",
     "text": [
      "[[1 2 3 4]\n",
      " [1 2 3 4]\n",
      " [1 2 3 4]\n",
      " [1 2 3 4]\n",
      " [1 2 3 4]]\n"
     ]
    }
   ],
   "source": [
    "import numpy as np\n",
    "a1=np.array([[1,2,3,4],[1,2,3,4],[1,2,3,4],[1,2,3,4],[1,2,3,4]])\n",
    "print(a1)"
   ]
  },
  {
   "cell_type": "markdown",
   "metadata": {},
   "source": [
    "# 3.Create a 8x8 matrix and fill it with a checkerboard pattern"
   ]
  },
  {
   "cell_type": "code",
   "execution_count": 22,
   "metadata": {},
   "outputs": [
    {
     "name": "stdout",
     "output_type": "stream",
     "text": [
      "The checkboard:\n",
      "[[0 1 0 1 0 1 0 1]\n",
      " [1 0 1 0 1 0 1 0]\n",
      " [0 1 0 1 0 1 0 1]\n",
      " [1 0 1 0 1 0 1 0]\n",
      " [0 1 0 1 0 1 0 1]\n",
      " [1 0 1 0 1 0 1 0]\n",
      " [0 1 0 1 0 1 0 1]\n",
      " [1 0 1 0 1 0 1 0]]\n"
     ]
    }
   ],
   "source": [
    "x = np.zeros((8,8),dtype=int)\n",
    "x[1::2,::2] = 1\n",
    "x[::2,1::2] = 1\n",
    "print(\"The checkboard:\" )\n",
    "print(x)\n",
    "\n"
   ]
  },
  {
   "cell_type": "markdown",
   "metadata": {},
   "source": [
    "# 4. Normalize a 5x5 random matrix"
   ]
  },
  {
   "cell_type": "code",
   "execution_count": 26,
   "metadata": {},
   "outputs": [
    {
     "name": "stdout",
     "output_type": "stream",
     "text": [
      "The original array:\n",
      "[[0.75251333 0.54875191 0.15706119 0.80448505 0.61542517]\n",
      " [0.1921986  0.28202801 0.74321518 0.56432533 0.56840373]\n",
      " [0.76417584 0.25524991 0.24069817 0.22639099 0.85405667]\n",
      " [0.75989257 0.22099078 0.35438447 0.61081835 0.5823474 ]\n",
      " [0.67766662 0.93574846 0.19270762 0.67722827 0.49961597]]\n",
      "After Normalization:\n",
      "[[0.76468714 0.50301416 0.         0.83142987 0.5886368 ]\n",
      " [0.0451239  0.16048396 0.75274634 0.52301374 0.52825127]\n",
      " [0.77966429 0.12609518 0.10740766 0.08903419 0.89509038]\n",
      " [0.77416366 0.08209917 0.25340504 0.58272066 0.54615791]\n",
      " [0.66856806 1.         0.04577759 0.66800511 0.43991316]]\n"
     ]
    }
   ],
   "source": [
    "y=np.random.random((5,5))\n",
    "print(\"The original array:\")\n",
    "print(y)\n",
    "ymax,ymin=y.max(),y.min()\n",
    "y = (y - ymin)/(ymax - ymin)\n",
    "print(\"After Normalization:\")\n",
    "print(y)\n"
   ]
  },
  {
   "cell_type": "markdown",
   "metadata": {},
   "source": [
    "# 5.  How to find common values between two arrays?"
   ]
  },
  {
   "cell_type": "code",
   "execution_count": 29,
   "metadata": {},
   "outputs": [
    {
     "name": "stdout",
     "output_type": "stream",
     "text": [
      "a1: [  0 101  12  23 343  67]\n",
      "a2 [   0  101   12   23  656 8686    2   23 2436]\n",
      "common value of a1 & a2: [  0  12  23 101]\n"
     ]
    }
   ],
   "source": [
    "a1=np.array([0,101,12,23,343,67])\n",
    "print(\"a1:\",a1)\n",
    "a2=np.array([0,101,12,23,656,8686,2,23,2436,])\n",
    "print(\"a2\",a2)\n",
    "print(\"common value of a1 & a2:\",np.intersect1d(a1,a2))"
   ]
  },
  {
   "cell_type": "markdown",
   "metadata": {},
   "source": [
    "# 6.How to get the dates of yesterday, today and tomorrow?"
   ]
  },
  {
   "cell_type": "code",
   "execution_count": 30,
   "metadata": {},
   "outputs": [
    {
     "name": "stdout",
     "output_type": "stream",
     "text": [
      "Yestraday:  2020-07-24\n",
      "Today:  2020-07-25\n",
      "Tomorrow:  2020-07-26\n"
     ]
    }
   ],
   "source": [
    "import numpy as np\n",
    "yesterday = np.datetime64('today', 'D') - np.timedelta64(1, 'D')\n",
    "print(\"Yestraday: \",yesterday)\n",
    "today     = np.datetime64('today', 'D')\n",
    "print(\"Today: \",today)\n",
    "tomorrow  = np.datetime64('today', 'D') + np.timedelta64(1, 'D')\n",
    "print(\"Tomorrow: \",tomorrow)"
   ]
  },
  {
   "cell_type": "markdown",
   "metadata": {},
   "source": [
    "# 7. Consider two random array A and B, check if they are equal"
   ]
  },
  {
   "cell_type": "code",
   "execution_count": 44,
   "metadata": {},
   "outputs": [
    {
     "name": "stdout",
     "output_type": "stream",
     "text": [
      "True\n"
     ]
    }
   ],
   "source": [
    "\n",
    "First_array = np.array([[1,2],[3,4]])\n",
    "second_array = np.array([[1,2],[3,4]])\n",
    "\n",
    "comparison = First_array == second_array\n",
    "equal_arrays = comparison.all()\n",
    "\n",
    "print(equal_arrays)"
   ]
  },
  {
   "cell_type": "markdown",
   "metadata": {},
   "source": [
    "# 8.Create random vector of size 10 and replace the maximum value by 0 "
   ]
  },
  {
   "cell_type": "code",
   "execution_count": 47,
   "metadata": {},
   "outputs": [
    {
     "name": "stdout",
     "output_type": "stream",
     "text": [
      "The original array: [0.27407956 0.06342412 0.54563925 0.77028349 0.31221993 0.88228252\n",
      " 0.08976454 0.77893499 0.96476623 0.78925186]\n",
      "The max value of 10 is:\n",
      "[0.27407956 0.06342412 0.54563925 0.77028349 0.31221993 0.88228252\n",
      " 0.08976454 0.77893499 0.         0.78925186]\n"
     ]
    }
   ],
   "source": [
    "x=np.random.random((10))\n",
    "print(\"The original array:\",x)\n",
    "x[x.argmax()]=0\n",
    "print(\"The max value of 10 is:\")\n",
    "print(x)"
   ]
  },
  {
   "cell_type": "markdown",
   "metadata": {},
   "source": [
    "# 9. How to print all the values of an array?"
   ]
  },
  {
   "cell_type": "code",
   "execution_count": 48,
   "metadata": {},
   "outputs": [
    {
     "name": "stdout",
     "output_type": "stream",
     "text": [
      "[ 0  1  2  3  4  5  6  7  8  9 10 11 12 13 14 15 16 17 18 19 20 21 22 23\n",
      " 24 25 26 27 28 29 30 31 32 33 34 35 36 37 38 39 40 41 42 43 44 45 46 47\n",
      " 48 49 50 51 52 53 54 55 56 57 58 59 60 61 62 63 64 65 66 67 68 69 70 71\n",
      " 72 73 74 75 76 77 78 79 80 81 82 83 84 85 86 87 88 89 90 91 92 93 94 95\n",
      " 96 97 98 99]\n"
     ]
    }
   ],
   "source": [
    "my_array = np.arange(100)\n",
    "print(my_array)"
   ]
  },
  {
   "cell_type": "markdown",
   "metadata": {},
   "source": [
    "# 10.Subtract the mean of each row of a matrix"
   ]
  },
  {
   "cell_type": "code",
   "execution_count": 50,
   "metadata": {},
   "outputs": [
    {
     "name": "stdout",
     "output_type": "stream",
     "text": [
      "Original matrix:\n",
      "\n",
      "[[0.12522537 0.48540763 0.0780183  0.52408481 0.97275325 0.70189171\n",
      "  0.10174308 0.84034552 0.69597513 0.0585498 ]\n",
      " [0.33861688 0.08388202 0.97832993 0.36452375 0.92540471 0.18524502\n",
      "  0.21456513 0.04928378 0.25164114 0.62770167]\n",
      " [0.032045   0.55717219 0.62979378 0.86282793 0.64151326 0.28324342\n",
      "  0.7508197  0.22079252 0.5754092  0.20252639]\n",
      " [0.61436641 0.66600398 0.15397851 0.68137372 0.89386302 0.02964536\n",
      "  0.54149487 0.08071656 0.08893586 0.83789028]\n",
      " [0.97568762 0.32382999 0.11112134 0.22012395 0.90134    0.66323565\n",
      "  0.97199076 0.23039483 0.17146605 0.41059825]]\n",
      "\n",
      "Subtract the mean of each row of the said matrix:\n",
      "\n",
      "[[0.76468714 0.50301416 0.         0.83142987 0.5886368 ]\n",
      " [0.0451239  0.16048396 0.75274634 0.52301374 0.52825127]\n",
      " [0.77966429 0.12609518 0.10740766 0.08903419 0.89509038]\n",
      " [0.77416366 0.08209917 0.25340504 0.58272066 0.54615791]\n",
      " [0.66856806 1.         0.04577759 0.66800511 0.43991316]]\n"
     ]
    }
   ],
   "source": [
    "import numpy as np\n",
    "print(\"Original matrix:\\n\")\n",
    "X = np.random.rand(5, 10)\n",
    "print(X)\n",
    "print(\"\\nSubtract the mean of each row of the said matrix:\\n\")\n",
    "Y = X - X.mean(axis=1, keepdims=True)\n",
    "print(y)"
   ]
  },
  {
   "cell_type": "markdown",
   "metadata": {},
   "source": [
    "# 11.Consider a given vector, how to add 1 to each element indexed by a second vector (be careful with repeated indices)? "
   ]
  },
  {
   "cell_type": "code",
   "execution_count": null,
   "metadata": {},
   "outputs": [],
   "source": []
  },
  {
   "cell_type": "markdown",
   "metadata": {},
   "source": [
    "# 12.How to get the diagonal of a dot product?"
   ]
  },
  {
   "cell_type": "code",
   "execution_count": 3,
   "metadata": {},
   "outputs": [
    {
     "name": "stdout",
     "output_type": "stream",
     "text": [
      "Dot product of scalar value: 15\n",
      "Dot of product: (-14+31j)\n"
     ]
    }
   ],
   "source": [
    "import numpy as np\n",
    "\n",
    "product=np.dot(5,3)\n",
    "print(\"Dot product of scalar value:\",product)\n",
    "\n",
    "vector1=2+3j\n",
    "vector2=5+8j\n",
    "product=np.dot(vector1,vector2)\n",
    "print(\"Dot of product:\",product)\n"
   ]
  },
  {
   "cell_type": "markdown",
   "metadata": {},
   "source": [
    "# 13.How to find the most frequent value in an array?"
   ]
  },
  {
   "cell_type": "code",
   "execution_count": 1,
   "metadata": {},
   "outputs": [
    {
     "name": "stdout",
     "output_type": "stream",
     "text": [
      "1\n"
     ]
    }
   ],
   "source": [
    "import math as mt \n",
    "  \n",
    "def mostFrequent(arr, n): \n",
    "  \n",
    "    \n",
    "    Hash = dict() \n",
    "    for i in range(n): \n",
    "        if arr[i] in Hash.keys(): \n",
    "            Hash[arr[i]] += 1\n",
    "        else: \n",
    "            Hash[arr[i]] = 1\n",
    "  \n",
    "   \n",
    "    max_count = 0\n",
    "    res = -1\n",
    "    for i in Hash:  \n",
    "        if (max_count < Hash[i]):  \n",
    "            res = i \n",
    "            max_count = Hash[i] \n",
    "          \n",
    "    return res \n",
    "  \n",
    "\n",
    "arr = [ 1, 5, 2, 1, 3, 2, 1]  \n",
    "n = len(arr) \n",
    "print(mostFrequent(arr, n))"
   ]
  },
  {
   "cell_type": "markdown",
   "metadata": {},
   "source": [
    "# 14.How to get the n largest values of an array"
   ]
  },
  {
   "cell_type": "code",
   "execution_count": 4,
   "metadata": {},
   "outputs": [
    {
     "name": "stdout",
     "output_type": "stream",
     "text": [
      "Original array:\n",
      "[0 1 2 3 4 5 6 7 8 9]\n",
      "[9]\n"
     ]
    }
   ],
   "source": [
    "import numpy as np\n",
    "x = np.arange(10)\n",
    "print(\"Original array:\")\n",
    "print(x)\n",
    "np.random.shuffle(x)\n",
    "n = 1\n",
    "print (x[np.argsort(x)[-n:]])"
   ]
  },
  {
   "cell_type": "markdown",
   "metadata": {},
   "source": [
    "# 15.How to create a record array from a regular array?"
   ]
  },
  {
   "cell_type": "code",
   "execution_count": 5,
   "metadata": {},
   "outputs": [
    {
     "name": "stdout",
     "output_type": "stream",
     "text": [
      "Original arrays:\n",
      "[['Yasemin Rayner' '88.5' '90']\n",
      " ['Ayaana Mcnamara' '87' '99']\n",
      " ['Jody Preece' '85.5' '91']]\n",
      "\n",
      "Record array;\n",
      "[(b'Yasemin Rayner', 88.5, 90) (b'Ayaana Mcnamara', 87. , 99)\n",
      " (b'Jody Preece', 85.5, 91)]\n"
     ]
    }
   ],
   "source": [
    "import numpy as np\n",
    "arra1 = np.array([(\"Yasemin Rayner\", 88.5, 90),\n",
    "                 (\"Ayaana Mcnamara\", 87, 99),\n",
    "             (\"Jody Preece\", 85.5, 91)])\n",
    "print(\"Original arrays:\")\n",
    "print(arra1)\n",
    "print(\"\\nRecord array;\")\n",
    "result = np.core.records.fromarrays(arra1.T,\n",
    "                              names='col1, col2, col3',\n",
    "                              formats = 'S80, f8, i8')\n",
    "print(result)"
   ]
  },
  {
   "cell_type": "code",
   "execution_count": null,
   "metadata": {},
   "outputs": [],
   "source": []
  }
 ],
 "metadata": {
  "kernelspec": {
   "display_name": "Python 3",
   "language": "python",
   "name": "python3"
  },
  "language_info": {
   "codemirror_mode": {
    "name": "ipython",
    "version": 3
   },
   "file_extension": ".py",
   "mimetype": "text/x-python",
   "name": "python",
   "nbconvert_exporter": "python",
   "pygments_lexer": "ipython3",
   "version": "3.7.6"
  }
 },
 "nbformat": 4,
 "nbformat_minor": 2
}
