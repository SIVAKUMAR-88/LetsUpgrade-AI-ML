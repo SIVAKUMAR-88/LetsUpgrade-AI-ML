{
 "cells": [
  {
   "cell_type": "markdown",
   "metadata": {},
   "source": [
    "# Question 4:\n",
    "Write a Python's user defined function that removes all the additional characters from the string\n",
    "and converts it finally to lower case using built-in lower(). eg: If the string is \"Dr. Darshan Ingle\n",
    "@AI-ML Trainer\", then the output be \"drdarshaningleaimltrainer\"."
   ]
  },
  {
   "cell_type": "code",
   "execution_count": 42,
   "metadata": {},
   "outputs": [
    {
     "name": "stdout",
     "output_type": "stream",
     "text": [
      "Before replacing : Dr.Darshan Ingle @AI-ML Trainer\n",
      "after removing special character: drdarshaningleaimltrainer\n"
     ]
    }
   ],
   "source": [
    "def repl_char(y):\n",
    "    invalid_list=['!','@','$','%','^','&','*','(',')','_','-','+','=','{','}','[',']','|',':',';','?','.',\" \"]\n",
    "    for i in invalid_list:\n",
    "        y = y.replace(i,'')\n",
    "        y = y.lower()\n",
    "        \n",
    "       \n",
    "   \n",
    "    print(\"after removing special character:\", y)\n",
    "    \n",
    "string = 'Dr.Darshan Ingle @AI-ML Trainer'\n",
    "print(\"Before replacing :\",string)\n",
    "\n",
    "repl_char(string_1)\n"
   ]
  },
  {
   "cell_type": "code",
   "execution_count": null,
   "metadata": {},
   "outputs": [],
   "source": []
  }
 ],
 "metadata": {
  "kernelspec": {
   "display_name": "Python 3",
   "language": "python",
   "name": "python3"
  },
  "language_info": {
   "codemirror_mode": {
    "name": "ipython",
    "version": 3
   },
   "file_extension": ".py",
   "mimetype": "text/x-python",
   "name": "python",
   "nbconvert_exporter": "python",
   "pygments_lexer": "ipython3",
   "version": "3.7.6"
  }
 },
 "nbformat": 4,
 "nbformat_minor": 4
}
