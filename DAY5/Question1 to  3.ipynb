{
 "cells": [
  {
   "cell_type": "markdown",
   "metadata": {},
   "source": [
    "# Question 1 :\n",
    "Write a Python program to find the first 20 non-even prime natural numbers."
   ]
  },
  {
   "cell_type": "code",
   "execution_count": null,
   "metadata": {},
   "outputs": [
    {
     "name": "stdout",
     "output_type": "stream",
     "text": [
      "1 "
     ]
    }
   ],
   "source": [
    "count = 1\n",
    "num = 1\n",
    "while count < 21:\n",
    "    for i in range(2,num):\n",
    "        if num%1 == 0:\n",
    "            break\n",
    "            \n",
    "    else:\n",
    "        if num%2!=0:\n",
    "            print(num,end=\" \")\n",
    "            count += 1\n",
    "    num +=1"
   ]
  },
  {
   "cell_type": "code",
   "execution_count": null,
   "metadata": {},
   "outputs": [],
   "source": []
  },
  {
   "cell_type": "code",
   "execution_count": null,
   "metadata": {},
   "outputs": [],
   "source": []
  },
  {
   "cell_type": "markdown",
   "metadata": {},
   "source": [
    "# Question 3:\n",
    "Write a Python program to check if the given string is a Palindrome or Anagram or None of them.\n",
    "Display the message accordingly to the user."
   ]
  },
  {
   "cell_type": "code",
   "execution_count": 7,
   "metadata": {},
   "outputs": [
    {
     "name": "stdout",
     "output_type": "stream",
     "text": [
      "Select 1 To Check If String Is Palindrone Or Not /n Select 2 To Check If String Is Anagram Or Not1\n",
      "Enter your Stringmalayalam\n",
      "['m', 'a', 'l', 'a', 'y', 'a', 'l', 'a', 'm']\n",
      "Given String is Palindrone\n",
      "None Of them!\n"
     ]
    }
   ],
   "source": [
    "def palin():\n",
    "    a=list(input(\"Enter your String\"))\n",
    "    print(a)\n",
    "    for i in range(0,len(a)):\n",
    "        if a[i]==a[len(a)-(i+1)]:\n",
    "            palindrone=True\n",
    "        else:\n",
    "            palindrone=False\n",
    "            break\n",
    "    if palindrone == True:\n",
    "        print(\"Given String is Palindrone\")\n",
    "    else:\n",
    "        print(\"Given String is not palindrone\")\n",
    "    \n",
    "def anagram():\n",
    "    first_string=list(input(\"Enter your First string\"))\n",
    "    print(first_string)\n",
    "    second_string=list(input(\"Enter Your Second String\"))\n",
    "    print(second_string)\n",
    "    for i in second_string:\n",
    "        if i in first_string:\n",
    "            Anagram_condition=True\n",
    "        else:\n",
    "            Anagram_condition=False\n",
    "            break\n",
    "        \n",
    "    if Anagram_condition==True:\n",
    "        print(\"Given string is Anagram\")\n",
    "    else:\n",
    "        print(\"Given string is not an Anagram\")\n",
    "        \n",
    "Choice=int(input(\"Select 1 To Check If String Is Palindrone Or Not /n Select 2 To Check If String Is Anagram Or Not\"))\n",
    "\n",
    "Anagram_condition=False\n",
    "palindrone=False\n",
    "\n",
    "if Choice==1:\n",
    "    palin()\n",
    "else:\n",
    "    anagram()\n",
    "    \n",
    "    \n",
    "if palindrone==True and Anagram_condition ==True:\n",
    "    print(\"Given String is palindrone & Anagram\")\n",
    "elif palindrone==True:\n",
    "    print(\"Given String is palidrone\")\n",
    "elif Anagram_condition==True:\n",
    "    print(\"Given String is Anagram\")\n",
    "else:\n",
    "    print(\"None Of them!\")"
   ]
  },
  {
   "cell_type": "code",
   "execution_count": null,
   "metadata": {},
   "outputs": [],
   "source": []
  },
  {
   "cell_type": "code",
   "execution_count": null,
   "metadata": {},
   "outputs": [],
   "source": []
  },
  {
   "cell_type": "code",
   "execution_count": null,
   "metadata": {},
   "outputs": [],
   "source": []
  },
  {
   "cell_type": "code",
   "execution_count": null,
   "metadata": {},
   "outputs": [],
   "source": []
  },
  {
   "cell_type": "code",
   "execution_count": null,
   "metadata": {},
   "outputs": [],
   "source": []
  },
  {
   "cell_type": "code",
   "execution_count": null,
   "metadata": {},
   "outputs": [],
   "source": []
  }
 ],
 "metadata": {
  "kernelspec": {
   "display_name": "Python 3",
   "language": "python",
   "name": "python3"
  },
  "language_info": {
   "codemirror_mode": {
    "name": "ipython",
    "version": 3
   },
   "file_extension": ".py",
   "mimetype": "text/x-python",
   "name": "python",
   "nbconvert_exporter": "python",
   "pygments_lexer": "ipython3",
   "version": "3.7.6"
  }
 },
 "nbformat": 4,
 "nbformat_minor": 4
}
